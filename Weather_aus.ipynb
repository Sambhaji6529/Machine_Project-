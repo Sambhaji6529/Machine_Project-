{
  "cells": [
    {
      "cell_type": "markdown",
      "metadata": {
        "id": "view-in-github",
        "colab_type": "text"
      },
      "source": [
        "<a href=\"https://colab.research.google.com/github/Sambhaji6529/Machine_Project-/blob/main/Weather_aus.ipynb\" target=\"_parent\"><img src=\"https://colab.research.google.com/assets/colab-badge.svg\" alt=\"Open In Colab\"/></a>"
      ]
    },
    {
      "cell_type": "code",
      "execution_count": null,
      "id": "7e0d3a70-c08c-470c-9629-10dd0c9f336d",
      "metadata": {
        "id": "7e0d3a70-c08c-470c-9629-10dd0c9f336d",
        "outputId": "d6dee031-7981-40f7-a4c6-37ad41606b16"
      },
      "outputs": [
        {
          "data": {
            "text/html": [
              "<pre style=\"white-space:pre;overflow-x:auto;line-height:normal;font-family:Menlo,'DejaVu Sans Mono',consolas,'Courier New',monospace\"><span style=\"color: #7fbfbf; text-decoration-color: #7fbfbf\">[04/30/23 17:26:55] </span><span style=\"color: #000080; text-decoration-color: #000080\">INFO    </span> Resolved project path as:                                              <a href=\"file://C:\\Users\\sambhaji\\work\\weather_us\\venv\\lib\\site-packages\\kedro\\ipython\\__init__.py\" target=\"_blank\"><span style=\"color: #7f7f7f; text-decoration-color: #7f7f7f\">__init__.py</span></a><span style=\"color: #7f7f7f; text-decoration-color: #7f7f7f\">:</span><a href=\"file://C:\\Users\\sambhaji\\work\\weather_us\\venv\\lib\\site-packages\\kedro\\ipython\\__init__.py#134\" target=\"_blank\"><span style=\"color: #7f7f7f; text-decoration-color: #7f7f7f\">134</span></a>\n",
              "<span style=\"color: #7fbfbf; text-decoration-color: #7fbfbf\">                    </span>         C:\\Users\\sambhaji\\work\\weather_us\\weather-us.                          <span style=\"color: #7f7f7f; text-decoration-color: #7f7f7f\">               </span>\n",
              "<span style=\"color: #7fbfbf; text-decoration-color: #7fbfbf\">                    </span>         To set a different path, run <span style=\"color: #008000; text-decoration-color: #008000\">'%reload_kedro &lt;project_root&gt;'</span>            <span style=\"color: #7f7f7f; text-decoration-color: #7f7f7f\">               </span>\n",
              "</pre>\n"
            ],
            "text/plain": [
              "\u001b[2;36m[04/30/23 17:26:55]\u001b[0m\u001b[2;36m \u001b[0m\u001b[34mINFO    \u001b[0m Resolved project path as:                                              \u001b]8;id=609233;file://C:\\Users\\sambhaji\\work\\weather_us\\venv\\lib\\site-packages\\kedro\\ipython\\__init__.py\u001b\\\u001b[2m__init__.py\u001b[0m\u001b]8;;\u001b\\\u001b[2m:\u001b[0m\u001b]8;id=694246;file://C:\\Users\\sambhaji\\work\\weather_us\\venv\\lib\\site-packages\\kedro\\ipython\\__init__.py#134\u001b\\\u001b[2m134\u001b[0m\u001b]8;;\u001b\\\n",
              "\u001b[2;36m                    \u001b[0m         C:\\Users\\sambhaji\\work\\weather_us\\weather-us.                          \u001b[2m               \u001b[0m\n",
              "\u001b[2;36m                    \u001b[0m         To set a different path, run \u001b[32m'%reload_kedro \u001b[0m\u001b[32m<\u001b[0m\u001b[32mproject_root\u001b[0m\u001b[32m>\u001b[0m\u001b[32m'\u001b[0m            \u001b[2m               \u001b[0m\n"
            ]
          },
          "metadata": {},
          "output_type": "display_data"
        },
        {
          "data": {
            "text/html": [
              "<pre style=\"white-space:pre;overflow-x:auto;line-height:normal;font-family:Menlo,'DejaVu Sans Mono',consolas,'Courier New',monospace\"><span style=\"color: #7fbfbf; text-decoration-color: #7fbfbf\">[04/30/23 17:26:56] </span><span style=\"color: #000080; text-decoration-color: #000080\">INFO    </span> Kedro project weather_us                                               <a href=\"file://C:\\Users\\sambhaji\\work\\weather_us\\venv\\lib\\site-packages\\kedro\\ipython\\__init__.py\" target=\"_blank\"><span style=\"color: #7f7f7f; text-decoration-color: #7f7f7f\">__init__.py</span></a><span style=\"color: #7f7f7f; text-decoration-color: #7f7f7f\">:</span><a href=\"file://C:\\Users\\sambhaji\\work\\weather_us\\venv\\lib\\site-packages\\kedro\\ipython\\__init__.py#103\" target=\"_blank\"><span style=\"color: #7f7f7f; text-decoration-color: #7f7f7f\">103</span></a>\n",
              "</pre>\n"
            ],
            "text/plain": [
              "\u001b[2;36m[04/30/23 17:26:56]\u001b[0m\u001b[2;36m \u001b[0m\u001b[34mINFO    \u001b[0m Kedro project weather_us                                               \u001b]8;id=740774;file://C:\\Users\\sambhaji\\work\\weather_us\\venv\\lib\\site-packages\\kedro\\ipython\\__init__.py\u001b\\\u001b[2m__init__.py\u001b[0m\u001b]8;;\u001b\\\u001b[2m:\u001b[0m\u001b]8;id=888950;file://C:\\Users\\sambhaji\\work\\weather_us\\venv\\lib\\site-packages\\kedro\\ipython\\__init__.py#103\u001b\\\u001b[2m103\u001b[0m\u001b]8;;\u001b\\\n"
            ]
          },
          "metadata": {},
          "output_type": "display_data"
        },
        {
          "data": {
            "text/html": [
              "<pre style=\"white-space:pre;overflow-x:auto;line-height:normal;font-family:Menlo,'DejaVu Sans Mono',consolas,'Courier New',monospace\"><span style=\"color: #7fbfbf; text-decoration-color: #7fbfbf\">                    </span><span style=\"color: #000080; text-decoration-color: #000080\">INFO    </span> Defined global variable <span style=\"color: #008000; text-decoration-color: #008000\">'context'</span>, <span style=\"color: #008000; text-decoration-color: #008000\">'session'</span>, <span style=\"color: #008000; text-decoration-color: #008000\">'catalog'</span> and            <a href=\"file://C:\\Users\\sambhaji\\work\\weather_us\\venv\\lib\\site-packages\\kedro\\ipython\\__init__.py\" target=\"_blank\"><span style=\"color: #7f7f7f; text-decoration-color: #7f7f7f\">__init__.py</span></a><span style=\"color: #7f7f7f; text-decoration-color: #7f7f7f\">:</span><a href=\"file://C:\\Users\\sambhaji\\work\\weather_us\\venv\\lib\\site-packages\\kedro\\ipython\\__init__.py#104\" target=\"_blank\"><span style=\"color: #7f7f7f; text-decoration-color: #7f7f7f\">104</span></a>\n",
              "<span style=\"color: #7fbfbf; text-decoration-color: #7fbfbf\">                    </span>         <span style=\"color: #008000; text-decoration-color: #008000\">'pipelines'</span>                                                            <span style=\"color: #7f7f7f; text-decoration-color: #7f7f7f\">               </span>\n",
              "</pre>\n"
            ],
            "text/plain": [
              "\u001b[2;36m                   \u001b[0m\u001b[2;36m \u001b[0m\u001b[34mINFO    \u001b[0m Defined global variable \u001b[32m'context'\u001b[0m, \u001b[32m'session'\u001b[0m, \u001b[32m'catalog'\u001b[0m and            \u001b]8;id=634916;file://C:\\Users\\sambhaji\\work\\weather_us\\venv\\lib\\site-packages\\kedro\\ipython\\__init__.py\u001b\\\u001b[2m__init__.py\u001b[0m\u001b]8;;\u001b\\\u001b[2m:\u001b[0m\u001b]8;id=663722;file://C:\\Users\\sambhaji\\work\\weather_us\\venv\\lib\\site-packages\\kedro\\ipython\\__init__.py#104\u001b\\\u001b[2m104\u001b[0m\u001b]8;;\u001b\\\n",
              "\u001b[2;36m                    \u001b[0m         \u001b[32m'pipelines'\u001b[0m                                                            \u001b[2m               \u001b[0m\n"
            ]
          },
          "metadata": {},
          "output_type": "display_data"
        }
      ],
      "source": [
        "#from kedro.extras.datasets.pandas import CSVDataSet\n",
        "#import pandas as pd \n",
        "%reload_kedro"
      ]
    },
    {
      "cell_type": "code",
      "execution_count": null,
      "id": "8325c120-47ed-42e1-8d88-805659e2ab25",
      "metadata": {
        "id": "8325c120-47ed-42e1-8d88-805659e2ab25",
        "outputId": "22b0c060-ba3d-46ec-8e63-6e0d9b6985da"
      },
      "outputs": [
        {
          "name": "stdout",
          "output_type": "stream",
          "text": [
            "Collecting matplotlib\n",
            "  Using cached matplotlib-3.7.1-cp310-cp310-win_amd64.whl (7.6 MB)\n",
            "Collecting contourpy>=1.0.1 (from matplotlib)\n",
            "  Using cached contourpy-1.0.7-cp310-cp310-win_amd64.whl (162 kB)\n",
            "Collecting cycler>=0.10 (from matplotlib)\n",
            "  Using cached cycler-0.11.0-py3-none-any.whl (6.4 kB)\n",
            "Collecting fonttools>=4.22.0 (from matplotlib)\n",
            "  Downloading fonttools-4.39.3-py3-none-any.whl (1.0 MB)\n",
            "                                              0.0/1.0 MB ? eta -:--:--\n",
            "     --                                       0.1/1.0 MB 1.9 MB/s eta 0:00:01\n",
            "     ----------                               0.3/1.0 MB 3.4 MB/s eta 0:00:01\n",
            "     ------------------------                 0.6/1.0 MB 4.9 MB/s eta 0:00:01\n",
            "     -------------------------------------    0.9/1.0 MB 5.4 MB/s eta 0:00:01\n",
            "     --------------------------------------   1.0/1.0 MB 4.8 MB/s eta 0:00:01\n",
            "     ---------------------------------------- 1.0/1.0 MB 4.0 MB/s eta 0:00:00\n",
            "Collecting kiwisolver>=1.0.1 (from matplotlib)\n",
            "  Using cached kiwisolver-1.4.4-cp310-cp310-win_amd64.whl (55 kB)\n",
            "Requirement already satisfied: numpy>=1.20 in c:\\users\\sambhaji\\work\\weather_us\\venv\\lib\\site-packages (from matplotlib) (1.24.3)\n",
            "Requirement already satisfied: packaging>=20.0 in c:\\users\\sambhaji\\work\\weather_us\\venv\\lib\\site-packages (from matplotlib) (23.1)\n",
            "Collecting pillow>=6.2.0 (from matplotlib)\n",
            "  Downloading Pillow-9.5.0-cp310-cp310-win_amd64.whl (2.5 MB)\n",
            "                                              0.0/2.5 MB ? eta -:--:--\n",
            "     -----                                    0.3/2.5 MB 9.9 MB/s eta 0:00:01\n",
            "     -----------                              0.7/2.5 MB 9.1 MB/s eta 0:00:01\n",
            "     -----------------                        1.1/2.5 MB 8.8 MB/s eta 0:00:01\n",
            "     ------------------------                 1.5/2.5 MB 8.8 MB/s eta 0:00:01\n",
            "     -----------------------------            1.9/2.5 MB 8.4 MB/s eta 0:00:01\n",
            "     -------------------------------------    2.3/2.5 MB 8.7 MB/s eta 0:00:01\n",
            "     ---------------------------------------  2.5/2.5 MB 8.0 MB/s eta 0:00:01\n",
            "     ---------------------------------------- 2.5/2.5 MB 7.3 MB/s eta 0:00:00\n",
            "Collecting pyparsing>=2.3.1 (from matplotlib)\n",
            "  Using cached pyparsing-3.0.9-py3-none-any.whl (98 kB)\n",
            "Requirement already satisfied: python-dateutil>=2.7 in c:\\users\\sambhaji\\work\\weather_us\\venv\\lib\\site-packages (from matplotlib) (2.8.2)\n",
            "Requirement already satisfied: six>=1.5 in c:\\users\\sambhaji\\work\\weather_us\\venv\\lib\\site-packages (from python-dateutil>=2.7->matplotlib) (1.16.0)\n",
            "Installing collected packages: pyparsing, pillow, kiwisolver, fonttools, cycler, contourpy, matplotlib\n",
            "Successfully installed contourpy-1.0.7 cycler-0.11.0 fonttools-4.39.3 kiwisolver-1.4.4 matplotlib-3.7.1 pillow-9.5.0 pyparsing-3.0.9\n",
            "Note: you may need to restart the kernel to use updated packages.\n"
          ]
        }
      ],
      "source": [
        "pip install matplotlib"
      ]
    },
    {
      "cell_type": "code",
      "execution_count": null,
      "id": "96390ae7-2dc3-4017-ab63-bc1b616a01e1",
      "metadata": {
        "id": "96390ae7-2dc3-4017-ab63-bc1b616a01e1",
        "outputId": "69cdb9f8-c75d-489f-c72c-ae393b2d9991"
      },
      "outputs": [
        {
          "name": "stdout",
          "output_type": "stream",
          "text": [
            "Collecting seaborn\n",
            "  Using cached seaborn-0.12.2-py3-none-any.whl (293 kB)\n",
            "Requirement already satisfied: numpy!=1.24.0,>=1.17 in c:\\users\\sambhaji\\work\\weather_us\\venv\\lib\\site-packages (from seaborn) (1.24.3)\n",
            "Requirement already satisfied: pandas>=0.25 in c:\\users\\sambhaji\\work\\weather_us\\venv\\lib\\site-packages (from seaborn) (2.0.1)\n",
            "Requirement already satisfied: matplotlib!=3.6.1,>=3.1 in c:\\users\\sambhaji\\work\\weather_us\\venv\\lib\\site-packages (from seaborn) (3.7.1)\n",
            "Requirement already satisfied: contourpy>=1.0.1 in c:\\users\\sambhaji\\work\\weather_us\\venv\\lib\\site-packages (from matplotlib!=3.6.1,>=3.1->seaborn) (1.0.7)\n",
            "Requirement already satisfied: cycler>=0.10 in c:\\users\\sambhaji\\work\\weather_us\\venv\\lib\\site-packages (from matplotlib!=3.6.1,>=3.1->seaborn) (0.11.0)\n",
            "Requirement already satisfied: fonttools>=4.22.0 in c:\\users\\sambhaji\\work\\weather_us\\venv\\lib\\site-packages (from matplotlib!=3.6.1,>=3.1->seaborn) (4.39.3)\n",
            "Requirement already satisfied: kiwisolver>=1.0.1 in c:\\users\\sambhaji\\work\\weather_us\\venv\\lib\\site-packages (from matplotlib!=3.6.1,>=3.1->seaborn) (1.4.4)\n",
            "Requirement already satisfied: packaging>=20.0 in c:\\users\\sambhaji\\work\\weather_us\\venv\\lib\\site-packages (from matplotlib!=3.6.1,>=3.1->seaborn) (23.1)\n",
            "Requirement already satisfied: pillow>=6.2.0 in c:\\users\\sambhaji\\work\\weather_us\\venv\\lib\\site-packages (from matplotlib!=3.6.1,>=3.1->seaborn) (9.5.0)\n",
            "Requirement already satisfied: pyparsing>=2.3.1 in c:\\users\\sambhaji\\work\\weather_us\\venv\\lib\\site-packages (from matplotlib!=3.6.1,>=3.1->seaborn) (3.0.9)\n",
            "Requirement already satisfied: python-dateutil>=2.7 in c:\\users\\sambhaji\\work\\weather_us\\venv\\lib\\site-packages (from matplotlib!=3.6.1,>=3.1->seaborn) (2.8.2)\n",
            "Requirement already satisfied: pytz>=2020.1 in c:\\users\\sambhaji\\work\\weather_us\\venv\\lib\\site-packages (from pandas>=0.25->seaborn) (2023.3)\n",
            "Requirement already satisfied: tzdata>=2022.1 in c:\\users\\sambhaji\\work\\weather_us\\venv\\lib\\site-packages (from pandas>=0.25->seaborn) (2023.3)\n",
            "Requirement already satisfied: six>=1.5 in c:\\users\\sambhaji\\work\\weather_us\\venv\\lib\\site-packages (from python-dateutil>=2.7->matplotlib!=3.6.1,>=3.1->seaborn) (1.16.0)\n",
            "Installing collected packages: seaborn\n",
            "Successfully installed seaborn-0.12.2\n",
            "Note: you may need to restart the kernel to use updated packages.\n"
          ]
        }
      ],
      "source": [
        "pip install seaborn \n"
      ]
    },
    {
      "cell_type": "code",
      "execution_count": null,
      "id": "f55c8a07-954d-4d9a-8816-efdb9d66993e",
      "metadata": {
        "id": "f55c8a07-954d-4d9a-8816-efdb9d66993e"
      },
      "outputs": [],
      "source": [
        "import numpy as np  #linear algebra\n",
        "import pandas as pd #data processing, CSV file I?O\n",
        "import matplotlib.pyplot as plt #data visualization \n",
        "import seaborn as sns #statistical visualization \n",
        "%matplotlib inline \n",
        "import warnings\n",
        "warnings.filterwarnings('ignore')"
      ]
    },
    {
      "cell_type": "code",
      "execution_count": null,
      "id": "c7372925-63d3-466d-a09d-2942b18497e4",
      "metadata": {
        "id": "c7372925-63d3-466d-a09d-2942b18497e4",
        "outputId": "f75824ed-b880-477e-e772-9353392dfb63"
      },
      "outputs": [
        {
          "data": {
            "text/plain": [
              "['weather_aus_raw', 'parameters']"
            ]
          },
          "execution_count": 3,
          "metadata": {},
          "output_type": "execute_result"
        }
      ],
      "source": [
        "catalog.list()"
      ]
    },
    {
      "cell_type": "code",
      "execution_count": null,
      "id": "a84eab58-a1f4-4d84-8726-2a1bcddc098f",
      "metadata": {
        "id": "a84eab58-a1f4-4d84-8726-2a1bcddc098f",
        "outputId": "03cadf28-5751-4924-ad84-d826cc730dce"
      },
      "outputs": [
        {
          "data": {
            "text/html": [
              "<pre style=\"white-space:pre;overflow-x:auto;line-height:normal;font-family:Menlo,'DejaVu Sans Mono',consolas,'Courier New',monospace\"><span style=\"color: #7fbfbf; text-decoration-color: #7fbfbf\">[04/30/23 17:27:44] </span><span style=\"color: #000080; text-decoration-color: #000080\">INFO    </span> Loading data from <span style=\"color: #008000; text-decoration-color: #008000\">'weather_aus_raw'</span> <span style=\"font-weight: bold\">(</span>CSVDataSet<span style=\"font-weight: bold\">)</span><span style=\"color: #808000; text-decoration-color: #808000\">...</span>                <a href=\"file://C:\\Users\\sambhaji\\work\\weather_us\\venv\\lib\\site-packages\\kedro\\io\\data_catalog.py\" target=\"_blank\"><span style=\"color: #7f7f7f; text-decoration-color: #7f7f7f\">data_catalog.py</span></a><span style=\"color: #7f7f7f; text-decoration-color: #7f7f7f\">:</span><a href=\"file://C:\\Users\\sambhaji\\work\\weather_us\\venv\\lib\\site-packages\\kedro\\io\\data_catalog.py#343\" target=\"_blank\"><span style=\"color: #7f7f7f; text-decoration-color: #7f7f7f\">343</span></a>\n",
              "</pre>\n"
            ],
            "text/plain": [
              "\u001b[2;36m[04/30/23 17:27:44]\u001b[0m\u001b[2;36m \u001b[0m\u001b[34mINFO    \u001b[0m Loading data from \u001b[32m'weather_aus_raw'\u001b[0m \u001b[1m(\u001b[0mCSVDataSet\u001b[1m)\u001b[0m\u001b[33m...\u001b[0m                \u001b]8;id=246492;file://C:\\Users\\sambhaji\\work\\weather_us\\venv\\lib\\site-packages\\kedro\\io\\data_catalog.py\u001b\\\u001b[2mdata_catalog.py\u001b[0m\u001b]8;;\u001b\\\u001b[2m:\u001b[0m\u001b]8;id=179260;file://C:\\Users\\sambhaji\\work\\weather_us\\venv\\lib\\site-packages\\kedro\\io\\data_catalog.py#343\u001b\\\u001b[2m343\u001b[0m\u001b]8;;\u001b\\\n"
            ]
          },
          "metadata": {},
          "output_type": "display_data"
        }
      ],
      "source": [
        "df = catalog.load(\"weather_aus_raw\")"
      ]
    },
    {
      "cell_type": "code",
      "execution_count": null,
      "id": "8fdb60f8-267b-4df1-8c81-4a67bf8b5f74",
      "metadata": {
        "id": "8fdb60f8-267b-4df1-8c81-4a67bf8b5f74",
        "outputId": "9fccc0a0-d173-417c-dede-2a43b52e7d2a"
      },
      "outputs": [
        {
          "data": {
            "text/html": [
              "<div>\n",
              "<style scoped>\n",
              "    .dataframe tbody tr th:only-of-type {\n",
              "        vertical-align: middle;\n",
              "    }\n",
              "\n",
              "    .dataframe tbody tr th {\n",
              "        vertical-align: top;\n",
              "    }\n",
              "\n",
              "    .dataframe thead th {\n",
              "        text-align: right;\n",
              "    }\n",
              "</style>\n",
              "<table border=\"1\" class=\"dataframe\">\n",
              "  <thead>\n",
              "    <tr style=\"text-align: right;\">\n",
              "      <th></th>\n",
              "      <th>Date</th>\n",
              "      <th>Location</th>\n",
              "      <th>MinTemp</th>\n",
              "      <th>MaxTemp</th>\n",
              "      <th>Rainfall</th>\n",
              "      <th>Evaporation</th>\n",
              "      <th>Sunshine</th>\n",
              "      <th>WindGustDir</th>\n",
              "      <th>WindGustSpeed</th>\n",
              "      <th>WindDir9am</th>\n",
              "      <th>...</th>\n",
              "      <th>Humidity3pm</th>\n",
              "      <th>Pressure9am</th>\n",
              "      <th>Pressure3pm</th>\n",
              "      <th>Cloud9am</th>\n",
              "      <th>Cloud3pm</th>\n",
              "      <th>Temp9am</th>\n",
              "      <th>Temp3pm</th>\n",
              "      <th>RainToday</th>\n",
              "      <th>RISK_MM</th>\n",
              "      <th>RainTomorrow</th>\n",
              "    </tr>\n",
              "  </thead>\n",
              "  <tbody>\n",
              "    <tr>\n",
              "      <th>0</th>\n",
              "      <td>2008-12-01</td>\n",
              "      <td>Albury</td>\n",
              "      <td>13.4</td>\n",
              "      <td>22.9</td>\n",
              "      <td>0.6</td>\n",
              "      <td>NaN</td>\n",
              "      <td>NaN</td>\n",
              "      <td>W</td>\n",
              "      <td>44.0</td>\n",
              "      <td>W</td>\n",
              "      <td>...</td>\n",
              "      <td>22.0</td>\n",
              "      <td>1007.7</td>\n",
              "      <td>1007.1</td>\n",
              "      <td>8.0</td>\n",
              "      <td>NaN</td>\n",
              "      <td>16.9</td>\n",
              "      <td>21.8</td>\n",
              "      <td>No</td>\n",
              "      <td>0.0</td>\n",
              "      <td>No</td>\n",
              "    </tr>\n",
              "    <tr>\n",
              "      <th>1</th>\n",
              "      <td>2008-12-02</td>\n",
              "      <td>Albury</td>\n",
              "      <td>7.4</td>\n",
              "      <td>25.1</td>\n",
              "      <td>0.0</td>\n",
              "      <td>NaN</td>\n",
              "      <td>NaN</td>\n",
              "      <td>WNW</td>\n",
              "      <td>44.0</td>\n",
              "      <td>NNW</td>\n",
              "      <td>...</td>\n",
              "      <td>25.0</td>\n",
              "      <td>1010.6</td>\n",
              "      <td>1007.8</td>\n",
              "      <td>NaN</td>\n",
              "      <td>NaN</td>\n",
              "      <td>17.2</td>\n",
              "      <td>24.3</td>\n",
              "      <td>No</td>\n",
              "      <td>0.0</td>\n",
              "      <td>No</td>\n",
              "    </tr>\n",
              "    <tr>\n",
              "      <th>2</th>\n",
              "      <td>2008-12-03</td>\n",
              "      <td>Albury</td>\n",
              "      <td>12.9</td>\n",
              "      <td>25.7</td>\n",
              "      <td>0.0</td>\n",
              "      <td>NaN</td>\n",
              "      <td>NaN</td>\n",
              "      <td>WSW</td>\n",
              "      <td>46.0</td>\n",
              "      <td>W</td>\n",
              "      <td>...</td>\n",
              "      <td>30.0</td>\n",
              "      <td>1007.6</td>\n",
              "      <td>1008.7</td>\n",
              "      <td>NaN</td>\n",
              "      <td>2.0</td>\n",
              "      <td>21.0</td>\n",
              "      <td>23.2</td>\n",
              "      <td>No</td>\n",
              "      <td>0.0</td>\n",
              "      <td>No</td>\n",
              "    </tr>\n",
              "    <tr>\n",
              "      <th>3</th>\n",
              "      <td>2008-12-04</td>\n",
              "      <td>Albury</td>\n",
              "      <td>9.2</td>\n",
              "      <td>28.0</td>\n",
              "      <td>0.0</td>\n",
              "      <td>NaN</td>\n",
              "      <td>NaN</td>\n",
              "      <td>NE</td>\n",
              "      <td>24.0</td>\n",
              "      <td>SE</td>\n",
              "      <td>...</td>\n",
              "      <td>16.0</td>\n",
              "      <td>1017.6</td>\n",
              "      <td>1012.8</td>\n",
              "      <td>NaN</td>\n",
              "      <td>NaN</td>\n",
              "      <td>18.1</td>\n",
              "      <td>26.5</td>\n",
              "      <td>No</td>\n",
              "      <td>1.0</td>\n",
              "      <td>No</td>\n",
              "    </tr>\n",
              "    <tr>\n",
              "      <th>4</th>\n",
              "      <td>2008-12-05</td>\n",
              "      <td>Albury</td>\n",
              "      <td>17.5</td>\n",
              "      <td>32.3</td>\n",
              "      <td>1.0</td>\n",
              "      <td>NaN</td>\n",
              "      <td>NaN</td>\n",
              "      <td>W</td>\n",
              "      <td>41.0</td>\n",
              "      <td>ENE</td>\n",
              "      <td>...</td>\n",
              "      <td>33.0</td>\n",
              "      <td>1010.8</td>\n",
              "      <td>1006.0</td>\n",
              "      <td>7.0</td>\n",
              "      <td>8.0</td>\n",
              "      <td>17.8</td>\n",
              "      <td>29.7</td>\n",
              "      <td>No</td>\n",
              "      <td>0.2</td>\n",
              "      <td>No</td>\n",
              "    </tr>\n",
              "  </tbody>\n",
              "</table>\n",
              "<p>5 rows × 24 columns</p>\n",
              "</div>"
            ],
            "text/plain": [
              "         Date Location  MinTemp  MaxTemp  Rainfall  Evaporation  Sunshine   \n",
              "0  2008-12-01   Albury     13.4     22.9       0.6          NaN       NaN  \\\n",
              "1  2008-12-02   Albury      7.4     25.1       0.0          NaN       NaN   \n",
              "2  2008-12-03   Albury     12.9     25.7       0.0          NaN       NaN   \n",
              "3  2008-12-04   Albury      9.2     28.0       0.0          NaN       NaN   \n",
              "4  2008-12-05   Albury     17.5     32.3       1.0          NaN       NaN   \n",
              "\n",
              "  WindGustDir  WindGustSpeed WindDir9am  ... Humidity3pm  Pressure9am   \n",
              "0           W           44.0          W  ...        22.0       1007.7  \\\n",
              "1         WNW           44.0        NNW  ...        25.0       1010.6   \n",
              "2         WSW           46.0          W  ...        30.0       1007.6   \n",
              "3          NE           24.0         SE  ...        16.0       1017.6   \n",
              "4           W           41.0        ENE  ...        33.0       1010.8   \n",
              "\n",
              "   Pressure3pm  Cloud9am  Cloud3pm  Temp9am  Temp3pm  RainToday  RISK_MM   \n",
              "0       1007.1       8.0       NaN     16.9     21.8         No      0.0  \\\n",
              "1       1007.8       NaN       NaN     17.2     24.3         No      0.0   \n",
              "2       1008.7       NaN       2.0     21.0     23.2         No      0.0   \n",
              "3       1012.8       NaN       NaN     18.1     26.5         No      1.0   \n",
              "4       1006.0       7.0       8.0     17.8     29.7         No      0.2   \n",
              "\n",
              "   RainTomorrow  \n",
              "0            No  \n",
              "1            No  \n",
              "2            No  \n",
              "3            No  \n",
              "4            No  \n",
              "\n",
              "[5 rows x 24 columns]"
            ]
          },
          "execution_count": 12,
          "metadata": {},
          "output_type": "execute_result"
        }
      ],
      "source": [
        "df.head()"
      ]
    },
    {
      "cell_type": "code",
      "execution_count": null,
      "id": "475a1e57-d462-4355-8e3b-64cb322f0c5b",
      "metadata": {
        "id": "475a1e57-d462-4355-8e3b-64cb322f0c5b",
        "outputId": "3039aa6f-771b-4567-837e-fdc0cecf369b"
      },
      "outputs": [
        {
          "data": {
            "text/plain": [
              "(142193, 24)"
            ]
          },
          "execution_count": 13,
          "metadata": {},
          "output_type": "execute_result"
        }
      ],
      "source": [
        "df.shape"
      ]
    },
    {
      "cell_type": "code",
      "execution_count": null,
      "id": "e0407f2a-3ec3-4a2a-a380-191c0be122ef",
      "metadata": {
        "id": "e0407f2a-3ec3-4a2a-a380-191c0be122ef"
      },
      "outputs": [],
      "source": [
        "#remove date predictor in dataset\n",
        "df = df.drop(\"Date\", axis = 1)"
      ]
    },
    {
      "cell_type": "code",
      "execution_count": null,
      "id": "220ae671-f82c-4272-9c96-58a2ef767656",
      "metadata": {
        "id": "220ae671-f82c-4272-9c96-58a2ef767656",
        "outputId": "171925a5-bf18-43ab-a11e-cf6971acbc8d"
      },
      "outputs": [
        {
          "data": {
            "text/plain": [
              "(142193, 23)"
            ]
          },
          "execution_count": 15,
          "metadata": {},
          "output_type": "execute_result"
        }
      ],
      "source": [
        "df.shape"
      ]
    },
    {
      "cell_type": "code",
      "execution_count": null,
      "id": "13c77824-f775-4a81-9dbb-1f296841621a",
      "metadata": {
        "id": "13c77824-f775-4a81-9dbb-1f296841621a",
        "outputId": "df5f9e17-4e8d-4f74-c229-4268d6cdce63"
      },
      "outputs": [
        {
          "name": "stdout",
          "output_type": "stream",
          "text": [
            "<class 'pandas.core.frame.DataFrame'>\n",
            "RangeIndex: 142193 entries, 0 to 142192\n",
            "Data columns (total 23 columns):\n",
            " #   Column         Non-Null Count   Dtype  \n",
            "---  ------         --------------   -----  \n",
            " 0   Location       142193 non-null  object \n",
            " 1   MinTemp        141556 non-null  float64\n",
            " 2   MaxTemp        141871 non-null  float64\n",
            " 3   Rainfall       140787 non-null  float64\n",
            " 4   Evaporation    81350 non-null   float64\n",
            " 5   Sunshine       74377 non-null   float64\n",
            " 6   WindGustDir    132863 non-null  object \n",
            " 7   WindGustSpeed  132923 non-null  float64\n",
            " 8   WindDir9am     132180 non-null  object \n",
            " 9   WindDir3pm     138415 non-null  object \n",
            " 10  WindSpeed9am   140845 non-null  float64\n",
            " 11  WindSpeed3pm   139563 non-null  float64\n",
            " 12  Humidity9am    140419 non-null  float64\n",
            " 13  Humidity3pm    138583 non-null  float64\n",
            " 14  Pressure9am    128179 non-null  float64\n",
            " 15  Pressure3pm    128212 non-null  float64\n",
            " 16  Cloud9am       88536 non-null   float64\n",
            " 17  Cloud3pm       85099 non-null   float64\n",
            " 18  Temp9am        141289 non-null  float64\n",
            " 19  Temp3pm        139467 non-null  float64\n",
            " 20  RainToday      140787 non-null  object \n",
            " 21  RISK_MM        142193 non-null  float64\n",
            " 22  RainTomorrow   142193 non-null  object \n",
            "dtypes: float64(17), object(6)\n",
            "memory usage: 25.0+ MB\n"
          ]
        }
      ],
      "source": [
        "df.info()"
      ]
    },
    {
      "cell_type": "code",
      "execution_count": null,
      "id": "a42e9a88-e3b1-4924-be2f-3058b0ad02e4",
      "metadata": {
        "id": "a42e9a88-e3b1-4924-be2f-3058b0ad02e4",
        "outputId": "78155f04-9a46-4645-8b2b-32589f5bd11c"
      },
      "outputs": [
        {
          "data": {
            "text/plain": [
              "Index(['Location', 'MinTemp', 'MaxTemp', 'Rainfall', 'Evaporation', 'Sunshine',\n",
              "       'WindGustDir', 'WindGustSpeed', 'WindDir9am', 'WindDir3pm',\n",
              "       'WindSpeed9am', 'WindSpeed3pm', 'Humidity9am', 'Humidity3pm',\n",
              "       'Pressure9am', 'Pressure3pm', 'Cloud9am', 'Cloud3pm', 'Temp9am',\n",
              "       'Temp3pm', 'RainToday', 'RISK_MM', 'RainTomorrow'],\n",
              "      dtype='object')"
            ]
          },
          "execution_count": 21,
          "metadata": {},
          "output_type": "execute_result"
        }
      ],
      "source": [
        "df.columns"
      ]
    },
    {
      "cell_type": "markdown",
      "id": "c8efa060-6257-4b93-a3a0-bdda33f9360a",
      "metadata": {
        "id": "c8efa060-6257-4b93-a3a0-bdda33f9360a"
      },
      "source": [
        "# Extracting Training data/ labeled data"
      ]
    },
    {
      "cell_type": "code",
      "execution_count": null,
      "id": "90df5938-dff2-42b9-aed6-1f4677fa840b",
      "metadata": {
        "id": "90df5938-dff2-42b9-aed6-1f4677fa840b",
        "outputId": "41b0cdf4-2d6a-451b-8791-a671e74c7508"
      },
      "outputs": [
        {
          "data": {
            "text/html": [
              "<div>\n",
              "<style scoped>\n",
              "    .dataframe tbody tr th:only-of-type {\n",
              "        vertical-align: middle;\n",
              "    }\n",
              "\n",
              "    .dataframe tbody tr th {\n",
              "        vertical-align: top;\n",
              "    }\n",
              "\n",
              "    .dataframe thead th {\n",
              "        text-align: right;\n",
              "    }\n",
              "</style>\n",
              "<table border=\"1\" class=\"dataframe\">\n",
              "  <thead>\n",
              "    <tr style=\"text-align: right;\">\n",
              "      <th></th>\n",
              "      <th>Location</th>\n",
              "      <th>MinTemp</th>\n",
              "      <th>MaxTemp</th>\n",
              "      <th>Rainfall</th>\n",
              "      <th>Evaporation</th>\n",
              "      <th>Sunshine</th>\n",
              "      <th>WindGustDir</th>\n",
              "      <th>WindGustSpeed</th>\n",
              "      <th>WindDir9am</th>\n",
              "      <th>WindDir3pm</th>\n",
              "      <th>...</th>\n",
              "      <th>Humidity3pm</th>\n",
              "      <th>Pressure9am</th>\n",
              "      <th>Pressure3pm</th>\n",
              "      <th>Cloud9am</th>\n",
              "      <th>Cloud3pm</th>\n",
              "      <th>Temp9am</th>\n",
              "      <th>Temp3pm</th>\n",
              "      <th>RainToday</th>\n",
              "      <th>RISK_MM</th>\n",
              "      <th>RainTomorrow</th>\n",
              "    </tr>\n",
              "  </thead>\n",
              "  <tbody>\n",
              "    <tr>\n",
              "      <th>0</th>\n",
              "      <td>Albury</td>\n",
              "      <td>13.4</td>\n",
              "      <td>22.9</td>\n",
              "      <td>0.6</td>\n",
              "      <td>NaN</td>\n",
              "      <td>NaN</td>\n",
              "      <td>W</td>\n",
              "      <td>44.0</td>\n",
              "      <td>W</td>\n",
              "      <td>WNW</td>\n",
              "      <td>...</td>\n",
              "      <td>22.0</td>\n",
              "      <td>1007.7</td>\n",
              "      <td>1007.1</td>\n",
              "      <td>8.0</td>\n",
              "      <td>NaN</td>\n",
              "      <td>16.9</td>\n",
              "      <td>21.8</td>\n",
              "      <td>No</td>\n",
              "      <td>0.0</td>\n",
              "      <td>No</td>\n",
              "    </tr>\n",
              "    <tr>\n",
              "      <th>1</th>\n",
              "      <td>Albury</td>\n",
              "      <td>7.4</td>\n",
              "      <td>25.1</td>\n",
              "      <td>0.0</td>\n",
              "      <td>NaN</td>\n",
              "      <td>NaN</td>\n",
              "      <td>WNW</td>\n",
              "      <td>44.0</td>\n",
              "      <td>NNW</td>\n",
              "      <td>WSW</td>\n",
              "      <td>...</td>\n",
              "      <td>25.0</td>\n",
              "      <td>1010.6</td>\n",
              "      <td>1007.8</td>\n",
              "      <td>NaN</td>\n",
              "      <td>NaN</td>\n",
              "      <td>17.2</td>\n",
              "      <td>24.3</td>\n",
              "      <td>No</td>\n",
              "      <td>0.0</td>\n",
              "      <td>No</td>\n",
              "    </tr>\n",
              "    <tr>\n",
              "      <th>2</th>\n",
              "      <td>Albury</td>\n",
              "      <td>12.9</td>\n",
              "      <td>25.7</td>\n",
              "      <td>0.0</td>\n",
              "      <td>NaN</td>\n",
              "      <td>NaN</td>\n",
              "      <td>WSW</td>\n",
              "      <td>46.0</td>\n",
              "      <td>W</td>\n",
              "      <td>WSW</td>\n",
              "      <td>...</td>\n",
              "      <td>30.0</td>\n",
              "      <td>1007.6</td>\n",
              "      <td>1008.7</td>\n",
              "      <td>NaN</td>\n",
              "      <td>2.0</td>\n",
              "      <td>21.0</td>\n",
              "      <td>23.2</td>\n",
              "      <td>No</td>\n",
              "      <td>0.0</td>\n",
              "      <td>No</td>\n",
              "    </tr>\n",
              "    <tr>\n",
              "      <th>3</th>\n",
              "      <td>Albury</td>\n",
              "      <td>9.2</td>\n",
              "      <td>28.0</td>\n",
              "      <td>0.0</td>\n",
              "      <td>NaN</td>\n",
              "      <td>NaN</td>\n",
              "      <td>NE</td>\n",
              "      <td>24.0</td>\n",
              "      <td>SE</td>\n",
              "      <td>E</td>\n",
              "      <td>...</td>\n",
              "      <td>16.0</td>\n",
              "      <td>1017.6</td>\n",
              "      <td>1012.8</td>\n",
              "      <td>NaN</td>\n",
              "      <td>NaN</td>\n",
              "      <td>18.1</td>\n",
              "      <td>26.5</td>\n",
              "      <td>No</td>\n",
              "      <td>1.0</td>\n",
              "      <td>No</td>\n",
              "    </tr>\n",
              "    <tr>\n",
              "      <th>4</th>\n",
              "      <td>Albury</td>\n",
              "      <td>17.5</td>\n",
              "      <td>32.3</td>\n",
              "      <td>1.0</td>\n",
              "      <td>NaN</td>\n",
              "      <td>NaN</td>\n",
              "      <td>W</td>\n",
              "      <td>41.0</td>\n",
              "      <td>ENE</td>\n",
              "      <td>NW</td>\n",
              "      <td>...</td>\n",
              "      <td>33.0</td>\n",
              "      <td>1010.8</td>\n",
              "      <td>1006.0</td>\n",
              "      <td>7.0</td>\n",
              "      <td>8.0</td>\n",
              "      <td>17.8</td>\n",
              "      <td>29.7</td>\n",
              "      <td>No</td>\n",
              "      <td>0.2</td>\n",
              "      <td>No</td>\n",
              "    </tr>\n",
              "  </tbody>\n",
              "</table>\n",
              "<p>5 rows × 23 columns</p>\n",
              "</div>"
            ],
            "text/plain": [
              "  Location  MinTemp  MaxTemp  Rainfall  Evaporation  Sunshine WindGustDir   \n",
              "0   Albury     13.4     22.9       0.6          NaN       NaN           W  \\\n",
              "1   Albury      7.4     25.1       0.0          NaN       NaN         WNW   \n",
              "2   Albury     12.9     25.7       0.0          NaN       NaN         WSW   \n",
              "3   Albury      9.2     28.0       0.0          NaN       NaN          NE   \n",
              "4   Albury     17.5     32.3       1.0          NaN       NaN           W   \n",
              "\n",
              "   WindGustSpeed WindDir9am WindDir3pm  ...  Humidity3pm  Pressure9am   \n",
              "0           44.0          W        WNW  ...         22.0       1007.7  \\\n",
              "1           44.0        NNW        WSW  ...         25.0       1010.6   \n",
              "2           46.0          W        WSW  ...         30.0       1007.6   \n",
              "3           24.0         SE          E  ...         16.0       1017.6   \n",
              "4           41.0        ENE         NW  ...         33.0       1010.8   \n",
              "\n",
              "   Pressure3pm  Cloud9am  Cloud3pm  Temp9am  Temp3pm  RainToday  RISK_MM   \n",
              "0       1007.1       8.0       NaN     16.9     21.8         No      0.0  \\\n",
              "1       1007.8       NaN       NaN     17.2     24.3         No      0.0   \n",
              "2       1008.7       NaN       2.0     21.0     23.2         No      0.0   \n",
              "3       1012.8       NaN       NaN     18.1     26.5         No      1.0   \n",
              "4       1006.0       7.0       8.0     17.8     29.7         No      0.2   \n",
              "\n",
              "   RainTomorrow  \n",
              "0            No  \n",
              "1            No  \n",
              "2            No  \n",
              "3            No  \n",
              "4            No  \n",
              "\n",
              "[5 rows x 23 columns]"
            ]
          },
          "execution_count": 23,
          "metadata": {},
          "output_type": "execute_result"
        }
      ],
      "source": [
        "#Dropping the null values in dependent variable \n",
        "#use df1 variable for train data\n",
        "#df1 is our training data\n",
        "df1 = df[df['RainTomorrow'].notna()] #This is our Training Data\n",
        "df1.head()"
      ]
    },
    {
      "cell_type": "code",
      "execution_count": null,
      "id": "b117282c-a3d9-4129-9a21-0db72a8a0233",
      "metadata": {
        "id": "b117282c-a3d9-4129-9a21-0db72a8a0233",
        "outputId": "43efcd7d-ca7f-41bd-d51f-0db40a519126"
      },
      "outputs": [
        {
          "data": {
            "text/plain": [
              "(142193, 23)"
            ]
          },
          "execution_count": 24,
          "metadata": {},
          "output_type": "execute_result"
        }
      ],
      "source": [
        "df1.shape"
      ]
    },
    {
      "cell_type": "code",
      "execution_count": null,
      "id": "e37e0386-e816-4492-b658-b9173951da38",
      "metadata": {
        "id": "e37e0386-e816-4492-b658-b9173951da38"
      },
      "outputs": [],
      "source": [
        "#we need to create  a node\n",
        "def extract_training_data(df):\n",
        "    \"\"\" Extracting the training data from raw data and droping Date column \n",
        "    Return: Pandas DataFrame here Raw Data\n",
        "    output: DataFrame i.e. Training Data\"\"\"\n",
        "    df = df.drop(\"Date\", axis = 1)\n",
        "    df1 = df[df['RainTomorrow'].notna()] #This is our training data\n",
        "    return df1"
      ]
    },
    {
      "cell_type": "code",
      "execution_count": null,
      "id": "68a9e3a5-911d-4694-9aa7-30eab2750baf",
      "metadata": {
        "id": "68a9e3a5-911d-4694-9aa7-30eab2750baf"
      },
      "outputs": [],
      "source": [
        "df1 = extract_training_data(df)"
      ]
    },
    {
      "cell_type": "code",
      "execution_count": null,
      "id": "a15b63d5-9b44-4549-9599-bfe948f01114",
      "metadata": {
        "id": "a15b63d5-9b44-4549-9599-bfe948f01114",
        "outputId": "41adcbcd-5d93-4bbe-e41e-4ab575288afa"
      },
      "outputs": [
        {
          "data": {
            "text/html": [
              "<div>\n",
              "<style scoped>\n",
              "    .dataframe tbody tr th:only-of-type {\n",
              "        vertical-align: middle;\n",
              "    }\n",
              "\n",
              "    .dataframe tbody tr th {\n",
              "        vertical-align: top;\n",
              "    }\n",
              "\n",
              "    .dataframe thead th {\n",
              "        text-align: right;\n",
              "    }\n",
              "</style>\n",
              "<table border=\"1\" class=\"dataframe\">\n",
              "  <thead>\n",
              "    <tr style=\"text-align: right;\">\n",
              "      <th></th>\n",
              "      <th>Location</th>\n",
              "      <th>MinTemp</th>\n",
              "      <th>MaxTemp</th>\n",
              "      <th>Rainfall</th>\n",
              "      <th>Evaporation</th>\n",
              "      <th>Sunshine</th>\n",
              "      <th>WindGustDir</th>\n",
              "      <th>WindGustSpeed</th>\n",
              "      <th>WindDir9am</th>\n",
              "      <th>WindDir3pm</th>\n",
              "      <th>...</th>\n",
              "      <th>Humidity3pm</th>\n",
              "      <th>Pressure9am</th>\n",
              "      <th>Pressure3pm</th>\n",
              "      <th>Cloud9am</th>\n",
              "      <th>Cloud3pm</th>\n",
              "      <th>Temp9am</th>\n",
              "      <th>Temp3pm</th>\n",
              "      <th>RainToday</th>\n",
              "      <th>RISK_MM</th>\n",
              "      <th>RainTomorrow</th>\n",
              "    </tr>\n",
              "  </thead>\n",
              "  <tbody>\n",
              "    <tr>\n",
              "      <th>0</th>\n",
              "      <td>Albury</td>\n",
              "      <td>13.4</td>\n",
              "      <td>22.9</td>\n",
              "      <td>0.6</td>\n",
              "      <td>NaN</td>\n",
              "      <td>NaN</td>\n",
              "      <td>W</td>\n",
              "      <td>44.0</td>\n",
              "      <td>W</td>\n",
              "      <td>WNW</td>\n",
              "      <td>...</td>\n",
              "      <td>22.0</td>\n",
              "      <td>1007.7</td>\n",
              "      <td>1007.1</td>\n",
              "      <td>8.0</td>\n",
              "      <td>NaN</td>\n",
              "      <td>16.9</td>\n",
              "      <td>21.8</td>\n",
              "      <td>No</td>\n",
              "      <td>0.0</td>\n",
              "      <td>No</td>\n",
              "    </tr>\n",
              "    <tr>\n",
              "      <th>1</th>\n",
              "      <td>Albury</td>\n",
              "      <td>7.4</td>\n",
              "      <td>25.1</td>\n",
              "      <td>0.0</td>\n",
              "      <td>NaN</td>\n",
              "      <td>NaN</td>\n",
              "      <td>WNW</td>\n",
              "      <td>44.0</td>\n",
              "      <td>NNW</td>\n",
              "      <td>WSW</td>\n",
              "      <td>...</td>\n",
              "      <td>25.0</td>\n",
              "      <td>1010.6</td>\n",
              "      <td>1007.8</td>\n",
              "      <td>NaN</td>\n",
              "      <td>NaN</td>\n",
              "      <td>17.2</td>\n",
              "      <td>24.3</td>\n",
              "      <td>No</td>\n",
              "      <td>0.0</td>\n",
              "      <td>No</td>\n",
              "    </tr>\n",
              "    <tr>\n",
              "      <th>2</th>\n",
              "      <td>Albury</td>\n",
              "      <td>12.9</td>\n",
              "      <td>25.7</td>\n",
              "      <td>0.0</td>\n",
              "      <td>NaN</td>\n",
              "      <td>NaN</td>\n",
              "      <td>WSW</td>\n",
              "      <td>46.0</td>\n",
              "      <td>W</td>\n",
              "      <td>WSW</td>\n",
              "      <td>...</td>\n",
              "      <td>30.0</td>\n",
              "      <td>1007.6</td>\n",
              "      <td>1008.7</td>\n",
              "      <td>NaN</td>\n",
              "      <td>2.0</td>\n",
              "      <td>21.0</td>\n",
              "      <td>23.2</td>\n",
              "      <td>No</td>\n",
              "      <td>0.0</td>\n",
              "      <td>No</td>\n",
              "    </tr>\n",
              "    <tr>\n",
              "      <th>3</th>\n",
              "      <td>Albury</td>\n",
              "      <td>9.2</td>\n",
              "      <td>28.0</td>\n",
              "      <td>0.0</td>\n",
              "      <td>NaN</td>\n",
              "      <td>NaN</td>\n",
              "      <td>NE</td>\n",
              "      <td>24.0</td>\n",
              "      <td>SE</td>\n",
              "      <td>E</td>\n",
              "      <td>...</td>\n",
              "      <td>16.0</td>\n",
              "      <td>1017.6</td>\n",
              "      <td>1012.8</td>\n",
              "      <td>NaN</td>\n",
              "      <td>NaN</td>\n",
              "      <td>18.1</td>\n",
              "      <td>26.5</td>\n",
              "      <td>No</td>\n",
              "      <td>1.0</td>\n",
              "      <td>No</td>\n",
              "    </tr>\n",
              "    <tr>\n",
              "      <th>4</th>\n",
              "      <td>Albury</td>\n",
              "      <td>17.5</td>\n",
              "      <td>32.3</td>\n",
              "      <td>1.0</td>\n",
              "      <td>NaN</td>\n",
              "      <td>NaN</td>\n",
              "      <td>W</td>\n",
              "      <td>41.0</td>\n",
              "      <td>ENE</td>\n",
              "      <td>NW</td>\n",
              "      <td>...</td>\n",
              "      <td>33.0</td>\n",
              "      <td>1010.8</td>\n",
              "      <td>1006.0</td>\n",
              "      <td>7.0</td>\n",
              "      <td>8.0</td>\n",
              "      <td>17.8</td>\n",
              "      <td>29.7</td>\n",
              "      <td>No</td>\n",
              "      <td>0.2</td>\n",
              "      <td>No</td>\n",
              "    </tr>\n",
              "  </tbody>\n",
              "</table>\n",
              "<p>5 rows × 23 columns</p>\n",
              "</div>"
            ],
            "text/plain": [
              "  Location  MinTemp  MaxTemp  Rainfall  Evaporation  Sunshine WindGustDir   \n",
              "0   Albury     13.4     22.9       0.6          NaN       NaN           W  \\\n",
              "1   Albury      7.4     25.1       0.0          NaN       NaN         WNW   \n",
              "2   Albury     12.9     25.7       0.0          NaN       NaN         WSW   \n",
              "3   Albury      9.2     28.0       0.0          NaN       NaN          NE   \n",
              "4   Albury     17.5     32.3       1.0          NaN       NaN           W   \n",
              "\n",
              "   WindGustSpeed WindDir9am WindDir3pm  ...  Humidity3pm  Pressure9am   \n",
              "0           44.0          W        WNW  ...         22.0       1007.7  \\\n",
              "1           44.0        NNW        WSW  ...         25.0       1010.6   \n",
              "2           46.0          W        WSW  ...         30.0       1007.6   \n",
              "3           24.0         SE          E  ...         16.0       1017.6   \n",
              "4           41.0        ENE         NW  ...         33.0       1010.8   \n",
              "\n",
              "   Pressure3pm  Cloud9am  Cloud3pm  Temp9am  Temp3pm  RainToday  RISK_MM   \n",
              "0       1007.1       8.0       NaN     16.9     21.8         No      0.0  \\\n",
              "1       1007.8       NaN       NaN     17.2     24.3         No      0.0   \n",
              "2       1008.7       NaN       2.0     21.0     23.2         No      0.0   \n",
              "3       1012.8       NaN       NaN     18.1     26.5         No      1.0   \n",
              "4       1006.0       7.0       8.0     17.8     29.7         No      0.2   \n",
              "\n",
              "   RainTomorrow  \n",
              "0            No  \n",
              "1            No  \n",
              "2            No  \n",
              "3            No  \n",
              "4            No  \n",
              "\n",
              "[5 rows x 23 columns]"
            ]
          },
          "execution_count": 7,
          "metadata": {},
          "output_type": "execute_result"
        }
      ],
      "source": [
        "df1.head()"
      ]
    },
    {
      "cell_type": "code",
      "execution_count": null,
      "id": "8c952ad4-28ca-4fbf-9bc0-51229b6e8bda",
      "metadata": {
        "id": "8c952ad4-28ca-4fbf-9bc0-51229b6e8bda",
        "outputId": "5a29566c-ba70-49bd-86e7-dd16bf2b0a33"
      },
      "outputs": [
        {
          "data": {
            "text/plain": [
              "(142193, 23)"
            ]
          },
          "execution_count": 8,
          "metadata": {},
          "output_type": "execute_result"
        }
      ],
      "source": [
        "df1.shape"
      ]
    },
    {
      "cell_type": "code",
      "execution_count": null,
      "id": "1f911f17-21d4-4dbc-bcb4-4c0f85e4d3b0",
      "metadata": {
        "id": "1f911f17-21d4-4dbc-bcb4-4c0f85e4d3b0"
      },
      "outputs": [],
      "source": [
        "#model pickling --pickle --dump \n",
        "#model unpickling ---load the model in notebook \n",
        "#Inference we need predictions on null values(Target variable)"
      ]
    }
  ],
  "metadata": {
    "kernelspec": {
      "display_name": "Kedro (weather_us)",
      "language": "python",
      "name": "kedro_weather_us"
    },
    "language_info": {
      "codemirror_mode": {
        "name": "ipython",
        "version": 3
      },
      "file_extension": ".py",
      "mimetype": "text/x-python",
      "name": "python",
      "nbconvert_exporter": "python",
      "pygments_lexer": "ipython3",
      "version": "3.10.9"
    },
    "colab": {
      "provenance": [],
      "include_colab_link": true
    }
  },
  "nbformat": 4,
  "nbformat_minor": 5
}